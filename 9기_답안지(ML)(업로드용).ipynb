{
  "nbformat": 4,
  "nbformat_minor": 0,
  "metadata": {
    "colab": {
      "provenance": []
    },
    "kernelspec": {
      "name": "python3",
      "display_name": "Python 3"
    },
    "language_info": {
      "name": "python"
    }
  },
  "cells": [
    {
      "cell_type": "markdown",
      "source": [
        "# **1️⃣ Part 1 (30점)**\n",
        "- Part 1은 기본적인 **python 문법**과 관련된 문제들입니다.\n",
        "  - 주어진 조건에 따라 해당 작업을 수행하는 프로그램을 작성해 주세요.\n",
        "- ```변수명```이나 ```리스트명``` 등 문제에서 이미 설정된 부분들은 수정하시면 **안됩니다**.\n",
        "  - 문제 설정 부분은 미리 코드가 작성되어 있는데, 해당 부분을 수정하시면 안 된다는 의미입니다.  \n",
        "  (수정 시 경우에 따라 **0점 처리**됨을 주의해 주시기 바랍니다.)\n",
        "  - 주어진 코드를 활용하여 프로그램을 완성해 주시면 됩니다.\n",
        "\n",
        "---"
      ],
      "metadata": {
        "id": "XUTCiUFNCXfU"
      }
    },
    {
      "cell_type": "markdown",
      "source": [
        "## **1-1. 연산자와 자료형 (10점)**"
      ],
      "metadata": {
        "id": "2XEWmoxZDIdj"
      }
    },
    {
      "cell_type": "markdown",
      "source": [
        "### **1-1-a. 주어진 리스트에 있는 (x, y) 쌍에 대해 조건에 맞는 결과문 리스트를 출력해 주세요. (4점)**\n",
        "\n",
        "주어진 리스트 list1에는 문자열 (x, y) 쌍이 있습니다. 단순히 두 문자열을 이어붙여 새로운 문자열을 만들고, 그 결과를 리스트로 출력하세요.\n",
        "\n",
        "list1 = [(\"abc\", \"def\"), (\"coffee\", \"tea\"), (\"ewha\", \"university\")]"
      ],
      "metadata": {
        "id": "K1cee_-TU6DQ"
      }
    },
    {
      "cell_type": "code",
      "source": [
        "#정답\n",
        "list1 = [(\"abc\", \"def\"), (\"coffee\", \"tea\"), (\"ewha\", \"university\")]\n",
        "answer = [x + y for x, y in list1]\n",
        "print(answer)"
      ],
      "metadata": {
        "id": "RKyIvtmRWmxl",
        "colab": {
          "base_uri": "https://localhost:8080/"
        },
        "outputId": "a932e603-0ac1-44e8-b215-16cea2752a70"
      },
      "execution_count": null,
      "outputs": [
        {
          "output_type": "stream",
          "name": "stdout",
          "text": [
            "['abcdef', 'coffeetea', 'ewhauniversity']\n"
          ]
        }
      ]
    },
    {
      "cell_type": "markdown",
      "source": [
        "### **1-1-b. 주어진 리스트에 있는 (x, y) 쌍에 대해 조건에 맞는 결과문 리스트를 출력해 주세요. (6점)**\n",
        "\n",
        "주어진 리스트 list2에는 문자열 (x, y) 쌍이 들어 있습니다. 각 쌍에 대해 문자열 x와 y를 정수로 변환한 뒤 더한 값을 계산하여, 결과를 문자열로 표현한 리스트를 출력하세요.\n",
        "\n",
        "list2 = [(\"123\", \"456\"), (\"789\", \"234\"), (\"111\", \"222\")]"
      ],
      "metadata": {
        "id": "vAvDDAktTIP7"
      }
    },
    {
      "cell_type": "code",
      "source": [
        "#정답\n",
        "list2 = [(\"123\", \"456\"), (\"789\", \"234\"), (\"111\", \"222\")]\n",
        "answer = [str(int(x) + int(y)) for x, y in list2]\n",
        "print(answer)"
      ],
      "metadata": {
        "id": "jr8DzCOSWnaT",
        "colab": {
          "base_uri": "https://localhost:8080/"
        },
        "outputId": "fda5a36d-7883-40e8-f55b-04d0cc347230"
      },
      "execution_count": null,
      "outputs": [
        {
          "output_type": "stream",
          "name": "stdout",
          "text": [
            "['579', '1023', '333']\n"
          ]
        }
      ]
    },
    {
      "cell_type": "markdown",
      "source": [
        "## **1-2. 덧셈 처리기 만들기 (10점)**"
      ],
      "metadata": {
        "id": "wJTlm9aVUEKl"
      }
    },
    {
      "cell_type": "markdown",
      "source": [
        "- 1-1번 문제에서 더 나아가, 당신은 간단한 덧셈 처리기 함수 \"adder\"를 만드려 합니다.\n",
        "\n",
        "- 다음 두 변수 x와 y가 외부에서 주어집니다.\n",
        "\n",
        "    - x와 y는 문자열 형태이지만, 내용은 양의 정수(숫자)일 수도 있고 알파벳으로만 구성된 영단어일 수도 있습니다.\n",
        "\n",
        "- 두 변수가 모두 양의 정수(숫자)라면, 정수로 변환하여 덧셈 결과를 출력하세요.\n",
        "\n",
        "- 두 변수 중 하나라도 영단어이면, 그대로 문자열을 이어붙인 결과를 출력하세요.\n",
        "\n",
        "- 두 변수가 그 이외의 유형일 경우, 공백이 있을 경우 등 문제에서 제시되지 않은 기타 경우는 배제합니다."
      ],
      "metadata": {
        "id": "f7hCdIDwDZuE"
      }
    },
    {
      "cell_type": "markdown",
      "source": [
        "### **1-2-a. 두 변수 x와 y를 외부에서 입력받는 코드를 입력하세요. (2점)**\n",
        "hint : 간단하게 2줄 이하로 작성하시면 됩니다."
      ],
      "metadata": {
        "id": "O9n4tZEgRbk2"
      }
    },
    {
      "cell_type": "code",
      "source": [
        "#정답\n",
        "\n",
        "x = input()\n",
        "y = input()"
      ],
      "metadata": {
        "colab": {
          "base_uri": "https://localhost:8080/"
        },
        "id": "h3Iv21xED21j",
        "outputId": "8de88c7b-a55e-4f57-821a-033fa81b8fe4"
      },
      "execution_count": null,
      "outputs": [
        {
          "name": "stdout",
          "output_type": "stream",
          "text": [
            "ewha\n",
            "computer\n"
          ]
        }
      ]
    },
    {
      "cell_type": "markdown",
      "source": [
        "### **1-2-b. 당신의 덧셈 처리기 \"adder\" 함수를 완성해 주세요. (4점)**\n",
        "- 자료형의 이해를 통해 원하는 결과에 맞게 조건문을 완성하였을 경우 (2점)\n",
        "- 계산 결과를 올바르게 출력할 수 있도록 완성하였을 경우 (2점)\n"
      ],
      "metadata": {
        "id": "E_WaX17iEKQt"
      }
    },
    {
      "cell_type": "code",
      "source": [
        "# 정답\n",
        "def adder(x, y) :\n",
        "\n",
        "  if x.isdigit() and y.isdigit():\n",
        "    # 두 개 다 숫자인 경우\n",
        "     return(int(x) + int(y))\n",
        "  else:\n",
        "    # 하나라도 문자인 경우\n",
        "     return(x + y)"
      ],
      "metadata": {
        "id": "2MijnrxhHIHP"
      },
      "execution_count": null,
      "outputs": []
    },
    {
      "cell_type": "markdown",
      "source": [
        "### **1-2-c. 당신의 덧셈 처리기를 테스트해 주세요. (4점)**\n",
        "- 당신의 덧셈 처리기를 테스트하는 부분입니다.                              \n",
        "주어진 3가지 경우를 입력하였을 때 당신의 adder를 사용한 결과를 자유로운 형식으로 출력해 주세요.\n",
        "- 각 경우마다 1-2-a 혹은 1-2-b의 부분이  필요하다면 매번 다시 코드를 넣으셔야 합니다."
      ],
      "metadata": {
        "id": "Z9rbqKUkObNY"
      }
    },
    {
      "cell_type": "markdown",
      "source": [
        "1.   x = \"ewha\", y = \"computer\"로 사용자 지정을 하고 \"adder\"를 사용할 경우\n",
        "\n",
        "2.  x = \"200\", y = \"300\"를 사용자 입력 없이 코드 내에서 미리 지정해 놓고 \"adder\"를 사용할 경우\n",
        "3.   x = \"1886\", y = \"ewha\"로 사용자 지정을 하고 \"adder\"를 사용할 경우\n",
        "\n"
      ],
      "metadata": {
        "id": "gazG5E3cHHD1"
      }
    },
    {
      "cell_type": "code",
      "source": [
        "#1번 경우"
      ],
      "metadata": {
        "id": "YxOP-YpdOnPD"
      },
      "execution_count": null,
      "outputs": []
    },
    {
      "cell_type": "code",
      "source": [
        "#정답\n",
        "x = input()\n",
        "y = input()\n",
        "print(adder(x, y))"
      ],
      "metadata": {
        "colab": {
          "base_uri": "https://localhost:8080/"
        },
        "id": "giroj_FFjyQ8",
        "outputId": "d1651d28-c8ea-4ad3-fa5a-21f2c6e8dc3c"
      },
      "execution_count": null,
      "outputs": [
        {
          "output_type": "stream",
          "name": "stdout",
          "text": [
            "ewha\n",
            "computer\n",
            "ewhacomputer\n"
          ]
        }
      ]
    },
    {
      "cell_type": "code",
      "source": [
        "#2번 경우"
      ],
      "metadata": {
        "id": "GzeUr5-HOrAj"
      },
      "execution_count": null,
      "outputs": []
    },
    {
      "cell_type": "code",
      "source": [
        "#정답\n",
        "x = \"200\"\n",
        "y = \"300\"\n",
        "print(adder(x, y))"
      ],
      "metadata": {
        "colab": {
          "base_uri": "https://localhost:8080/"
        },
        "id": "4IKM7B_jknOV",
        "outputId": "7f6649f7-d4de-48e4-ce32-5d49be144163"
      },
      "execution_count": null,
      "outputs": [
        {
          "output_type": "stream",
          "name": "stdout",
          "text": [
            "500\n"
          ]
        }
      ]
    },
    {
      "cell_type": "code",
      "source": [
        "#3번 경우\n",
        "x = input()\n",
        "y = input()\n",
        "print(adder(x, y))"
      ],
      "metadata": {
        "id": "Z6d7ZPPnOqxt",
        "colab": {
          "base_uri": "https://localhost:8080/"
        },
        "outputId": "651ff4e4-f4d0-41bd-ce61-b7d91c6fefdb"
      },
      "execution_count": null,
      "outputs": [
        {
          "output_type": "stream",
          "name": "stdout",
          "text": [
            "1886\n",
            "ewha\n",
            "1886ewha\n"
          ]
        }
      ]
    },
    {
      "cell_type": "markdown",
      "source": [
        "## **1-3. 반복문과 리스트 (10점)**"
      ],
      "metadata": {
        "id": "OPLJdvKwFmqy"
      }
    },
    {
      "cell_type": "markdown",
      "source": [
        "### **1-3-a. 조건에 맞게 리스트 \"alist\"를 생성해 출력해 주세요. (3점)**\n",
        "- 리스트 \"alist\"는 자연수 2부터 7까지 담겨 있는 한 리스트에 대하여 각각의 제곱값이 담긴 리스트입니다.\n",
        "- 리스트 \"alist\"는 반복문을 사용하여 완성해 주세요. 숫자 그대로 입력하면 0점 처리됩니다.\n"
      ],
      "metadata": {
        "id": "5lhvOJB6GGGW"
      }
    },
    {
      "cell_type": "code",
      "source": [
        "#정답1(list comprehension)\n",
        "alist = [x**2 for x in [2, 3, 4, 5, 6, 7] ]\n",
        "print(alist)"
      ],
      "metadata": {
        "colab": {
          "base_uri": "https://localhost:8080/"
        },
        "id": "gdFaIRT1Fpl6",
        "outputId": "b434f2b6-f092-47f5-e3bb-cb70deaa43e5"
      },
      "execution_count": null,
      "outputs": [
        {
          "output_type": "stream",
          "name": "stdout",
          "text": [
            "[4, 9, 16, 25, 36, 49]\n"
          ]
        }
      ]
    },
    {
      "cell_type": "code",
      "source": [
        "#정답2\n",
        "alist = []\n",
        "for x in [2, 3, 4, 5, 6, 7]:\n",
        "  alist.append(x**2)\n",
        "print(alist)"
      ],
      "metadata": {
        "colab": {
          "base_uri": "https://localhost:8080/"
        },
        "id": "vRNstG3wIbt_",
        "outputId": "846bbdfe-c896-4d75-adaa-62aaf0b118c8"
      },
      "execution_count": null,
      "outputs": [
        {
          "output_type": "stream",
          "name": "stdout",
          "text": [
            "[4, 9, 16, 25, 36, 49]\n"
          ]
        }
      ]
    },
    {
      "cell_type": "markdown",
      "source": [
        "### **1-3-b. 리스트 \"alist\" 중 다음 조건에 맞는 요소만 추출하여, 새로운 리스트 \"blist\"를 생성해 출력해 주세요. (3점)**\n",
        "- alist 중 약수가 (1)1, (2)자신의 제곱근, (3)자기 자신만 있는 숫자만 찾아 리스트 \"blist\"에 넣어 주세요.\n",
        "- 직접 숫자를 찾아 입력하면 0점 처리됩니다."
      ],
      "metadata": {
        "id": "2GZ4srAzIr_y"
      }
    },
    {
      "cell_type": "code",
      "source": [
        "#정답\n",
        "blist = []\n",
        "for n in alist:\n",
        "    root = int(n**0.5)\n",
        "    if root * root == n:  # 제곱수인지 확인< 생략 가능\n",
        "        # 제곱근이 소수인지 확인\n",
        "        if root > 1 and all(root % i != 0 for i in range(2, int(root**0.5) + 1)):\n",
        "            blist.append(n)\n",
        "print( blist)"
      ],
      "metadata": {
        "colab": {
          "base_uri": "https://localhost:8080/"
        },
        "id": "q7NZpT6lIzpf",
        "outputId": "69e5eeb0-b061-4370-b709-f28313491e11"
      },
      "execution_count": null,
      "outputs": [
        {
          "output_type": "stream",
          "name": "stdout",
          "text": [
            "[4, 9, 25, 49]\n"
          ]
        }
      ]
    },
    {
      "cell_type": "markdown",
      "source": [
        "### **1-3-c. 리스트 \"alist\"의 모든 요소의 합을 구하여 출력해 주세요. (2점)**\n",
        "\n",
        "- sum() 함수를 사용해도 됩니다.\n",
        "\n",
        "- 직접 모든 수를 더한 값을 입력하면 0점 처리됩니다."
      ],
      "metadata": {
        "id": "4MZBrXTUhpto"
      }
    },
    {
      "cell_type": "code",
      "source": [
        "sum = sum(alist)\n",
        "print(sum)"
      ],
      "metadata": {
        "colab": {
          "base_uri": "https://localhost:8080/"
        },
        "id": "bFlyg0z0iuwD",
        "outputId": "43b3bd2e-7e43-4070-f34e-6f6ea05c2446"
      },
      "execution_count": null,
      "outputs": [
        {
          "output_type": "stream",
          "name": "stdout",
          "text": [
            "139\n"
          ]
        }
      ]
    },
    {
      "cell_type": "markdown",
      "source": [
        "### **1-3-d. blist의 최댓값과 최솟값을 각각 출력해 주세요. (2점)**\n",
        "\n",
        "- max()와 min() 함수를 사용해도 됩니다.\n",
        "\n",
        "- 직접 최댓값과 최솟값을 입력하면 0점 처리됩니다.\n"
      ],
      "metadata": {
        "id": "22XPvDp_icB7"
      }
    },
    {
      "cell_type": "code",
      "source": [
        "max_value = max(blist)\n",
        "min_value = min(blist)\n",
        "print(\"최댓값 : \", max_value,\",\",\"최솟값 : \", min_value)"
      ],
      "metadata": {
        "colab": {
          "base_uri": "https://localhost:8080/"
        },
        "id": "Bx-jh22shnX_",
        "outputId": "4c1d1623-1791-466e-fcef-e6b3f3886b7c"
      },
      "execution_count": null,
      "outputs": [
        {
          "output_type": "stream",
          "name": "stdout",
          "text": [
            "최댓값 :  49 , 최솟값 :  4\n"
          ]
        }
      ]
    },
    {
      "cell_type": "markdown",
      "source": [
        "# **2️⃣ Part 2 (30점)**\n",
        "- Part 2는 **리스트**와 관련된 문제들입니다.\n",
        "  - 주어진 조건에 따라 리스트를 정의하고, 필요한 작업을 수행하는 유형입니다.\n",
        "- ```변수명```이나 ```리스트명``` 등 문제에서 이미 설정된 부분들은 수정하시면 **안됩니다**.\n",
        "  - 문제 설정 부분은 미리 코드가 작성되어 있는데, 해당 부분을 수정하시면 안 된다는 의미입니다.  \n",
        "  (수정 시 경우에 따라 **0점 처리**됨을 주의해 주시기 바랍니다.)\n",
        "  - 주어진 코드를 활용하여 프로그램을 완성해 주시면 됩니다.\n",
        "\n",
        "---"
      ],
      "metadata": {
        "id": "VQRHebDNo9lv"
      }
    },
    {
      "cell_type": "markdown",
      "source": [
        "## **2-1. 제시문에 따라 코드를 작성해주세요. (7점)**"
      ],
      "metadata": {
        "id": "se2w6_u_qUfn"
      }
    },
    {
      "cell_type": "markdown",
      "source": [
        "### **2-1-a. 조건에 맞게 리스트 \"num_list\"를 생성해 출력해 주세요. (1점)**\n",
        "- 리스트 \"num_list\"는 자연수 1부터 20까지 담겨 있는 리스트입니다."
      ],
      "metadata": {
        "id": "qO0nwZQewV-H"
      }
    },
    {
      "cell_type": "code",
      "source": [
        "num_list = [i for i in range(1, 21)]\n",
        "print(num_list)"
      ],
      "metadata": {
        "colab": {
          "base_uri": "https://localhost:8080/"
        },
        "id": "oTyMBbouqxt7",
        "outputId": "867c9beb-8958-4d5e-9f61-88d50f52dce9"
      },
      "execution_count": null,
      "outputs": [
        {
          "output_type": "stream",
          "name": "stdout",
          "text": [
            "[1, 2, 3, 4, 5, 6, 7, 8, 9, 10, 11, 12, 13, 14, 15, 16, 17, 18, 19, 20]\n"
          ]
        }
      ]
    },
    {
      "cell_type": "markdown",
      "source": [
        "### **2-1-b. 리스트에 \"num_list\"에서 인덱스가 3의 배수인 요소들만 추출해 출력해 주세요. (2점)**\n",
        "- 직접 요소를 입력해 출력하면 0점 처리됩니다."
      ],
      "metadata": {
        "id": "2-AKC4YYw1TP"
      }
    },
    {
      "cell_type": "code",
      "source": [
        "result_b = num_list[3::3]\n",
        "print(result_b)"
      ],
      "metadata": {
        "colab": {
          "base_uri": "https://localhost:8080/"
        },
        "id": "-B9-mPHz13j_",
        "outputId": "3a675fd2-945e-409f-d106-3379f3982054"
      },
      "execution_count": null,
      "outputs": [
        {
          "output_type": "stream",
          "name": "stdout",
          "text": [
            "[4, 7, 10, 13, 16, 19]\n"
          ]
        }
      ]
    },
    {
      "cell_type": "markdown",
      "source": [
        "### **2-1-c. 리스트 \"num_list\"의 앞에서 절반 부분을 뒤집어서 역순으로 출력해 주세요. (2점)**\n",
        "- 직접 요소를 입력해 출력하면 0점 처리됩니다."
      ],
      "metadata": {
        "id": "AzBxkDT5xy1v"
      }
    },
    {
      "cell_type": "code",
      "source": [
        "result_c = num_list[:10][::-1]\n",
        "print(result_c)"
      ],
      "metadata": {
        "colab": {
          "base_uri": "https://localhost:8080/"
        },
        "id": "v3vZlXPo233P",
        "outputId": "c43e4a5c-eba7-47e4-f848-f38aa29aea95"
      },
      "execution_count": null,
      "outputs": [
        {
          "output_type": "stream",
          "name": "stdout",
          "text": [
            "[10, 9, 8, 7, 6, 5, 4, 3, 2, 1]\n"
          ]
        }
      ]
    },
    {
      "cell_type": "markdown",
      "source": [
        "### **2-1-d. 리스트의 \"num_list\"의 뒤쪽에서 절반 부분 중 짝수만 골라 출력해 주세요. (2점)**\n",
        "- 직접 요소를 입력해 출력하면 0점 처리됩니다."
      ],
      "metadata": {
        "id": "DeGA5oqNx0qK"
      }
    },
    {
      "cell_type": "code",
      "source": [
        "result_d = [x for x in num_list[10:] if x % 2 == 0]\n",
        "print(result_d)"
      ],
      "metadata": {
        "colab": {
          "base_uri": "https://localhost:8080/"
        },
        "id": "LgOZth5hxw3e",
        "outputId": "21b153fb-ba08-40e6-ce92-8022eb1fd37c"
      },
      "execution_count": null,
      "outputs": [
        {
          "output_type": "stream",
          "name": "stdout",
          "text": [
            "[12, 14, 16, 18, 20]\n"
          ]
        }
      ]
    },
    {
      "cell_type": "markdown",
      "source": [
        "## **2-2. 제시문에 따라 코드를 작성해주세요. (7점)**\n",
        "리스트 \"word_list\"는 다음과 같습니다.\n",
        "\n",
        "> word_list =  [\"alpha\", \"bravo\", \"charlie\", \"delta\", \"echo\", \"foxtrot\", \"golf\", \"hotel\", \"india\"]\n"
      ],
      "metadata": {
        "id": "zSD64SkVqYKL"
      }
    },
    {
      "cell_type": "markdown",
      "source": [
        "### **2-2-a. 리스트 \"word_list\"에서 첫 번째, 마지막, 가운데 요소를 한 리스트로 추출한 후 출력해 주세요. (3점)**\n",
        "\n"
      ],
      "metadata": {
        "id": "OJlaDIYn0NNb"
      }
    },
    {
      "cell_type": "code",
      "source": [
        "word_list = [\"alpha\", \"bravo\", \"charlie\", \"delta\", \"echo\", \"foxtrot\", \"golf\", \"hotel\", \"india\"]\n",
        "result_a = [word_list[0], word_list[len(word_list)//2], word_list[-1]]\n",
        "print(result_a)"
      ],
      "metadata": {
        "colab": {
          "base_uri": "https://localhost:8080/"
        },
        "id": "EJdwPpIw0aLr",
        "outputId": "ca798bb3-635c-4463-a12b-024e44056044"
      },
      "execution_count": null,
      "outputs": [
        {
          "output_type": "stream",
          "name": "stdout",
          "text": [
            "['alpha', 'echo', 'india']\n"
          ]
        }
      ]
    },
    {
      "cell_type": "markdown",
      "source": [
        "### **2-2-b. 리스트 \"word_list\"에서 길이가 5 이상인 문자열만 찾아 해당 리스트의 인덱스를 넣은 새 리스트 \"over_list\"을 만들고 출력해 주세요. (4점)**"
      ],
      "metadata": {
        "id": "1myLC4qH0Ojo"
      }
    },
    {
      "cell_type": "code",
      "source": [
        "over_list = [i for i, word in enumerate(word_list) if len(word) >= 5]\n",
        "\n",
        "print(over_list)"
      ],
      "metadata": {
        "colab": {
          "base_uri": "https://localhost:8080/"
        },
        "id": "Cea3LyPS5smX",
        "outputId": "c307ce07-e989-48b5-ce39-829263113279"
      },
      "execution_count": null,
      "outputs": [
        {
          "output_type": "stream",
          "name": "stdout",
          "text": [
            "[0, 1, 2, 3, 5, 7, 8]\n"
          ]
        }
      ]
    },
    {
      "cell_type": "markdown",
      "source": [
        "## **2-3. 제시문에 따라 문제를 해결해 주세요. (8점)**\n"
      ],
      "metadata": {
        "id": "SwlUytFp8X2S"
      }
    },
    {
      "cell_type": "markdown",
      "source": [
        "### **2-3-1. (3점)**\n",
        "- 제시된 문자열 `sentence`를 공백 기준으로 쪼개서 단어 리스트(`words_list`)를 만들어주세요.\n",
        "- `words_list`를 정렬한 `words_sort`리스트를 새로 생성해주세요.\n",
        "- 정렬이 완료된 리스트를 출력해주세요.\n"
      ],
      "metadata": {
        "id": "UiAnKp2QJ8EG"
      }
    },
    {
      "cell_type": "code",
      "source": [
        "### 이 셀은 수정/삭제하시면 안됩니다. 실행해주세요!\n",
        "\n",
        "sentence = \"The sun was setting behind the mountains, painting the sky with shades of orange and pink. \""
      ],
      "metadata": {
        "id": "3628E-PD6hL4"
      },
      "execution_count": null,
      "outputs": []
    },
    {
      "cell_type": "code",
      "source": [
        "words_list = sentence.split()\n",
        "# sorted / sort 둘 다 사용가능,\n",
        "# key에 람다함수없이 len으로만 표기해도 됨\n",
        "## 정답 1번 - sorted 사용\n",
        "words_sort = sorted(words_list,key=lambda x:len(x))\n",
        "\n",
        "## 정답 2번 - sort 사용\n",
        "words_list.sort(key=lambda x:len(x))\n",
        "words_sort = words_list.copy()\n",
        "\n",
        "## 결과 출력 ( 아래 코드는 수정/삭제하지 말아주세요. )\n",
        "print(words_sort)"
      ],
      "metadata": {
        "colab": {
          "base_uri": "https://localhost:8080/"
        },
        "id": "_Ovr2d5cA1M7",
        "outputId": "8ec86484-ca68-4c48-df5f-319327daa42b"
      },
      "execution_count": null,
      "outputs": [
        {
          "output_type": "stream",
          "name": "stdout",
          "text": [
            "['of', 'The', 'sun', 'was', 'the', 'the', 'sky', 'and', 'with', 'pink.', 'behind', 'shades', 'orange', 'setting', 'painting', 'mountains,']\n"
          ]
        }
      ]
    },
    {
      "cell_type": "markdown",
      "source": [
        "### **2-3-2.(5점)**\n",
        "- 위 `words_list`를 복사한 `words_list2`를 생성해주세요.\n",
        "- 길이가 6 이상인 단어들을 추출해 대문자로 변환한 후 알파벳에 따라 정렬해주세요.\n",
        "- 정렬이 완료된 리스트를 출력해주세요."
      ],
      "metadata": {
        "id": "o4J0Dh7SOZ_T"
      }
    },
    {
      "cell_type": "code",
      "source": [
        "# words_list2 정의\n",
        "words_list2 = words_list.copy()\n",
        "\n",
        "## 길이가 6 이상인 단어들을 추출해 대문자로 변환한 후 알파벳에 따라 정렬해주세요.\n",
        "words_list2 = [word.upper() for word in words_list2 if len(word)>= 6]\n",
        "words_list2.sort() # words_list2 = sorted(words_list2)도 가능\n",
        "\n",
        "## 정렬이 완료된 words_list2 출력 ( 아래 코드는 수정/삭제하지 말아주세요. )\n",
        "print(words_list2)"
      ],
      "metadata": {
        "colab": {
          "base_uri": "https://localhost:8080/"
        },
        "id": "XhBGMtPGLeNo",
        "outputId": "0946b326-c5fb-499d-eb5c-a7e3db461740"
      },
      "execution_count": null,
      "outputs": [
        {
          "output_type": "stream",
          "name": "stdout",
          "text": [
            "['BEHIND', 'MOUNTAINS,', 'ORANGE', 'PAINTING', 'SETTING', 'SHADES']\n"
          ]
        }
      ]
    },
    {
      "cell_type": "markdown",
      "source": [
        "## **2-4. 제시문에 따라 문제에 대한 답을 제시하고 해결해 주세요. (8점)**\n",
        "\n"
      ],
      "metadata": {
        "id": "kS6W0rSA1_BQ"
      }
    },
    {
      "cell_type": "markdown",
      "source": [
        "- 다음과 같이 고객별 각 영화의 평점이 담긴 이차원 데이터가 주어졌습니다.\n",
        "\n",
        "  \\begin{array}{|c|c|c|c|}\n",
        "  \\hline\n",
        "  \\text{번호} & 고객1 & 고객2 & 고객3 \\\\\n",
        "  \\hline\n",
        "  \\text{아바타} & 4 & 3 & 4.5 \\\\\n",
        "  \\text{명량} & 3.5 & 5 & 4 \\\\\n",
        "  \\text{밀정} & 5 & 4 & 4.5 \\\\\n",
        "  \\hline\n",
        "  \\end{array}\n",
        "\n",
        "- 이 문제의 목표는 각 영화별 고객의 평균 평점을 통해 고객 4의 예상 평점을 입력하는 것입니다."
      ],
      "metadata": {
        "id": "ZWt4qa4F2rJd"
      }
    },
    {
      "cell_type": "markdown",
      "source": [
        "### **2-4-1. (2점)**\n",
        "- 화연이는 데이터를 저장하기 위해 다음과 같이 이차원 리스트를 정의했습니다.\n",
        "\n",
        "```python\n",
        "ratings = [[\"4\",\"3\",\"4.5\"],\n",
        "           [\"3.5\",\"5\",\"4\"],\n",
        "           [\"5\",\"4\",\"4.5\"]]\n",
        "\n",
        "```\n",
        "- 화연이의 코드에서는 `ratings`데이터가 계산에 적합하지 않은 형태로 저장되어 있습니다.\n",
        "\n",
        "- ### **그 이유는 무엇인지 작성해주세요.**"
      ],
      "metadata": {
        "id": "SrxRakUW_Pd1"
      }
    },
    {
      "cell_type": "markdown",
      "source": [
        "**💡 답안**  \n",
        "(마크다운 셀을 풀고 답안을 작성해 주세요!)  \n"
      ],
      "metadata": {
        "id": "Q8lfEj3uAv43"
      }
    },
    {
      "cell_type": "markdown",
      "source": [
        "(예시 답안)\n",
        "\n",
        "주어진 데이터는 점수가 숫자가 아닌 문자열 형식으로 저장되어 있습니다.이 문제의 목적은 영화별 평균 평점을 계산하는 것이므로 실수형으로 형변환한 후에 계산을 진행해야 합니다.\n"
      ],
      "metadata": {
        "id": "nZYCG82WAyHZ"
      }
    },
    {
      "cell_type": "markdown",
      "source": [
        "### **2-4-2.(6점)**\n",
        "- 각 영화별 평균 평점을 계산하세요.\n",
        "- 각 영화별 평균 평점을 소수 둘째 자리까지 반올림한 값으로 고객 4의 예상 평점을 입력하세요.\n",
        "- 고객 4의 예상 평점 리스트를 예시처럼 출력해주세요.\n",
        "\n",
        "**💚 출력 예시**\n",
        "```\n",
        "고객 4의 예상 평점 리스트 : [3.83, 4.17, 4.5]\n",
        "```"
      ],
      "metadata": {
        "id": "Y7z3jdiSCCjW"
      }
    },
    {
      "cell_type": "code",
      "source": [
        "ratings = [[\"4\",\"3\",\"4.5\"],\n",
        "           [\"3.5\",\"5\",\"4\"],\n",
        "           [\"5\",\"4\",\"4.5\"]]\n",
        "\n",
        "## 2-4-1의 문제를 해결한 새 이차원 리스트 ratings_new 생성\n",
        "ratings_new = [list(map(float, rating)) for rating in ratings]\n",
        "\n",
        "# 각 영화별 평균 평점을 계산하고 고객 4의 예상 평점을 입력\n",
        "for i in range(len(ratings)):\n",
        "  ratings_new[i].append(round(sum(ratings_new[i])/len(ratings_new[i]),2))\n",
        "ratings_transpose = [list(row) for row in zip(*ratings_new)]\n",
        "\n",
        "# 정답 출력\n",
        "print(\"고객 4의 예상 평점 리스트 :\", ratings_transpose[3])"
      ],
      "metadata": {
        "colab": {
          "base_uri": "https://localhost:8080/"
        },
        "id": "vRA5gdiUCVbw",
        "outputId": "946b0622-a8e0-4059-ef3d-08f24e9d364f"
      },
      "execution_count": null,
      "outputs": [
        {
          "output_type": "stream",
          "name": "stdout",
          "text": [
            "고객 4의 예상 평점 리스트 : [3.83, 4.17, 4.5]\n"
          ]
        }
      ]
    },
    {
      "cell_type": "markdown",
      "source": [
        "# **3️⃣ Part 3 (40점)**\n",
        "- Part 3은 기본적인 **함수 및 자료구조**와 관련된 문제들입니다.\n",
        "  - 주어진 조건에 따라 해당 작업을 수행하는 프로그램을 작성해 주세요.\n",
        "- ```변수명```이나 ```리스트명``` 등 문제에서 이미 설정된 부분들은 수정하시면 **안됩니다**.\n",
        "  - 문제 설정 부분은 미리 코드가 작성되어 있는데, 해당 부분을 수정하시면 안 된다는 의미입니다.  \n",
        "  (수정 시 경우에 따라 **0점 처리**됨을 주의해 주시기 바랍니다.)\n",
        "  - 주어진 코드를 활용하여 프로그램을 완성해 주시면 됩니다.\n",
        "\n",
        "---\n"
      ],
      "metadata": {
        "id": "FcidN03mD1p9"
      }
    },
    {
      "cell_type": "markdown",
      "source": [
        "## **3-1. 제시문에 따라 문제를 해결해 주세요. (5점)**\n",
        "- `division_point`는 수직선 위의 두점의 좌표와 비율을 입력받았을 때 내분점의 위치를 구해주는 함수입니다.\n",
        "- `division_point`함수를 아래 정의에 따라 구현해 주세요.\n",
        "- 모든 변수는 양수라는 전제 아래 함수를 정의해주세요.\n",
        "###**입력값**\n",
        "  - point1 : 수직선 위 첫번째 점의 좌표\n",
        "  - point2 : 수직선 위 두번째 점의 좌표\n",
        "  - m, n : point1과 point2 사이를 m : n 비율로 내분\n",
        "\n",
        "  ### **반환값**\n",
        "  - answer : 내분점의 좌표"
      ],
      "metadata": {
        "id": "Vl_m5iuhErQA"
      }
    },
    {
      "cell_type": "code",
      "source": [
        "## 함수 정의\n",
        "def division_point(point1, point2, m, n):\n",
        "  answer = (n * point1 + m* point2) / (m+n)\n",
        "\n",
        "  return answer"
      ],
      "metadata": {
        "id": "UA3yama9HovD"
      },
      "execution_count": null,
      "outputs": []
    },
    {
      "cell_type": "markdown",
      "source": [
        "- 위 셀에서 정의된 함수를 테스트해봅시다.\n",
        "- 위 함수를 이용해 A(2), B(10) 사이를 1:3 비율로 내분하는 점을 구해주세요."
      ],
      "metadata": {
        "id": "lsmr4V-FMoJa"
      }
    },
    {
      "cell_type": "code",
      "source": [
        "## 함수 호출 및 실행\n",
        "# 해당 부분은 수정하시면 안됩니다.\n",
        "# 실행해주세요!\n",
        "\n",
        "point1, point2, m, n = map(int, input('네 수를 공백으로 구분하여 입력하세요: ').split())\n",
        "print('##정답##')\n",
        "print(division_point(point1, point2, m, n))"
      ],
      "metadata": {
        "colab": {
          "base_uri": "https://localhost:8080/"
        },
        "id": "UqS19fyvKX1B",
        "outputId": "6e760c1d-5c2d-4a0f-de8c-c05c275407d6"
      },
      "execution_count": null,
      "outputs": [
        {
          "output_type": "stream",
          "name": "stdout",
          "text": [
            "네 수를 공백으로 구분하여 입력하세요: 2 10 1 3\n",
            "##정답##\n",
            "4.0\n"
          ]
        }
      ]
    },
    {
      "cell_type": "markdown",
      "source": [
        "## **3-2. 문제를 읽고, 각 문제에 대해 알맞은 답안을 작성해주세요.(16점)**\n",
        "\n",
        "-  십진수를 입력받았을 때 이진수로 변환해주는 함수를 만들어주세요.\n",
        "- 같은 함수를 반복함수/재귀함수로 만들어주시면 됩니다.\n",
        "- 이 함수를 입력값과 반환값에 따라 구현해주세요.\n",
        "- 파이썬 내장 함수(bin,format 등)를 활용하시면 0점입니다.\n",
        "\n",
        "⭐ **십진수를 이진수로 변환하는 법?**\n",
        "\n",
        "1. 십진수를 2로 나눕니다.\n",
        "2. 나눴을 때 몫과 나머지(0 또는 1)가 나옵니다.\n",
        "3. 몫이 0이 될 때까지 몫을 2로 나눠줍니다.\n",
        "4. 나온 나머지를 거꾸로 읽으면 이진수가 됩니다.\n",
        "\n",
        "💚 **예시 :** 10을 이진수로 바꿔봅시다.\n",
        "\n",
        "1. 10 ÷ 2 = 5 ... 0\n",
        "2. 5 ÷ 2 = 2 ... 1\n",
        "3. 2 ÷ 2 = 1 ... 0\n",
        "4. 1 ÷ 2 = 0 ... 1\n",
        "\n",
        "  나머지를 거꾸로 읽으면 1010이 됩니다."
      ],
      "metadata": {
        "id": "8HQx8FrWOaGB"
      }
    },
    {
      "cell_type": "markdown",
      "source": [
        "### **3-2-1. 십진수를 이진수로 변환하는 함수를 반복문을 이용해 구현해주세요. (5점)**\n",
        "\n",
        "  #### **입력값**\n",
        "  - num : 입력하는 양의 정수\n",
        "\n",
        "#### **반환값**\n",
        "  - input이 변환된 이진수, type 상관없음\n"
      ],
      "metadata": {
        "id": "vYYXAKXfYiYI"
      }
    },
    {
      "cell_type": "code",
      "source": [
        "def binary_iterative(num):\n",
        "  result = \"\" # 문자열에 나머지를 저장\n",
        "  if num == 0:\n",
        "    return \"0\"\n",
        "  while num > 0:\n",
        "    result = str(num%2) + result\n",
        "    num = num//2 # 몫 update\n",
        "  return result"
      ],
      "metadata": {
        "id": "VS2fhtnRYiYK"
      },
      "execution_count": null,
      "outputs": []
    },
    {
      "cell_type": "code",
      "source": [
        "binary_iterative(0)"
      ],
      "metadata": {
        "colab": {
          "base_uri": "https://localhost:8080/",
          "height": 36
        },
        "id": "HT7ZsUNF1jBy",
        "outputId": "a6f07bd1-14b5-4b3c-f1c8-c86cdbed9b5d"
      },
      "execution_count": null,
      "outputs": [
        {
          "output_type": "execute_result",
          "data": {
            "text/plain": [
              "'0'"
            ],
            "application/vnd.google.colaboratory.intrinsic+json": {
              "type": "string"
            }
          },
          "metadata": {},
          "execution_count": 12
        }
      ]
    },
    {
      "cell_type": "code",
      "source": [
        "### Testing\n",
        "# 이 셀은 삭제 및 수정하시면 안됩니다. 실행해주세요!\n",
        "\n",
        "print(binary_iterative(100))  # 출력: 1100100\n",
        "print(binary_iterative(10))  # 출력: 1010\n",
        "print(binary_iterative(2))     # 출력: 10"
      ],
      "metadata": {
        "colab": {
          "base_uri": "https://localhost:8080/"
        },
        "outputId": "c3969970-16ca-4bfa-b705-afd81a69b05e",
        "id": "pgnDRxqxYiYL"
      },
      "execution_count": null,
      "outputs": [
        {
          "output_type": "stream",
          "name": "stdout",
          "text": [
            "1100100\n",
            "1010\n",
            "10\n"
          ]
        }
      ]
    },
    {
      "cell_type": "markdown",
      "source": [
        "### **3-2-2. 위의 함수(**`binary_iterative`**)를 재귀함수(**`binary_recursive`**)로 구현해주세요.(5점)**\n",
        "\n"
      ],
      "metadata": {
        "id": "QRYzbrBzVpWe"
      }
    },
    {
      "cell_type": "code",
      "source": [
        "def binary_recursive(num):\n",
        "  if num < 2:\n",
        "      return str(num)\n",
        "  return binary_recursive(num // 2) + str(num % 2)\n",
        "  # 재귀함수로 num//2 -> 몫을 업데이트, + 나머지 추가"
      ],
      "metadata": {
        "id": "ICbKyjZdRfaf"
      },
      "execution_count": null,
      "outputs": []
    },
    {
      "cell_type": "code",
      "source": [
        "### Testing\n",
        "# 이 셀은 삭제 및 수정하시면 안됩니다. 실행해주세요!\n",
        "\n",
        "print(binary_recursive(100))  # 출력: 1100100\n",
        "print(binary_recursive(10))  # 출력: 1010\n",
        "print(binary_recursive(2))     # 출력: 10"
      ],
      "metadata": {
        "colab": {
          "base_uri": "https://localhost:8080/"
        },
        "id": "DwENUjvySK5O",
        "outputId": "51d5145e-75be-4ad9-b446-68e060b025cb"
      },
      "execution_count": null,
      "outputs": [
        {
          "output_type": "stream",
          "name": "stdout",
          "text": [
            "1100100\n",
            "1010\n",
            "10\n"
          ]
        }
      ]
    },
    {
      "cell_type": "markdown",
      "source": [
        "### **3-2-3. 위와 같이 함수를 구현한 이유를 3~4줄 정도로 간단히 설명해주세요. (6점)**\n",
        "- `binary_iterative, binary_recursive`를 크게 다르게 구현하셨다면 둘 중 하나만 적으셔도 괜찮습니다.\n"
      ],
      "metadata": {
        "id": "9XHShS3o6Mej"
      }
    },
    {
      "cell_type": "markdown",
      "source": [
        "**💡 답안**  \n",
        "(마크다운 셀을 풀고 답안을 작성해 주세요!)  "
      ],
      "metadata": {
        "id": "frKrYsFfOaCd"
      }
    },
    {
      "cell_type": "markdown",
      "source": [
        "---\n",
        "(예시답안)\n",
        "\n",
        "십진수를 이진수로 변환하기 위해서는 몫을 2로 나눈 값으로 업데이트하고, 나머지는 역순으로 저장되어야 합니다. 몫을 2로 계속 나누고 업데이트하기위해 binary_iterative에서는 num = num//2 라는 코드를 사용했고 binary_recursive에서는 재귀함수의 input값에 (num//2)값을 넣었습니다. 나머지는 문자열 형식을 이용해 + 연산자로 저장했습니다.\n",
        "\n",
        "\n",
        "---"
      ],
      "metadata": {
        "id": "pLyIVuFj77gv"
      }
    },
    {
      "cell_type": "markdown",
      "source": [
        "## **3-3. 제시문을 읽고, 예시에 제시된 대로 출력되게 코드를 작성해주세요.(10점)**\n"
      ],
      "metadata": {
        "id": "Todqjhb-YW5r"
      }
    },
    {
      "cell_type": "markdown",
      "source": [
        "\n",
        "### **3-3-1.(7점)**\n",
        "- 한 회사에서 매출과 지출을 관리하는 함수를 작성하고자 합니다.\n",
        "  - `expenditure()` : 지출을 기록하는 함수로, 돈의 사용처(문자열)을 content로, 금액을 dollar로 입력받습니다.\n",
        "  - `income()` : 수입을 기록하는 함수로, 돈의 출처(문자열)을 source로, 입금 금액을 money로 입력받습니다.\n",
        "  - `profit()` : 순수익을 출력하는 함수입니다.\n",
        "  - 아래 예시처럼 출력되게 함수를 정의해주세요.\n",
        "\n",
        "💚 **예시 :**\n",
        "\n",
        "- 입력\n",
        "```python\n",
        "expenditure(\"땡땡 인쇄소\",20000)\n",
        "income(\"네이버 스토어 수익\",65000)\n",
        "income(\"공식 홈페이지 수익\",29000)\n",
        "expenditure(\"이번 달 사무실 비품비\",100)\n",
        "profit()\n",
        "```\n",
        "- 출력\n",
        "```python\n",
        "땡땡인쇄소(으)로 $20000 지출, 이번 달 총 지출은 $20000입니다.\n",
        "네이버 스토어 수익(으)로 $65000 입금, 이번 달 총 수입은 $65000입니다.\n",
        "공식 홈페이지 수익(으)로 $29000 입금, 이번 달 총 수입은 $94000입니다.\n",
        "이번 달 사무실 비품비(으)로 $100 지출, 이번 달 총 지출은 $20100입니다.\n",
        "이번 달 순이익은 $73900입니다.\n",
        "```"
      ],
      "metadata": {
        "id": "QmlVtJZr05nv"
      }
    },
    {
      "cell_type": "code",
      "source": [
        "loss = 0 # 이번 달 총 지출\n",
        "gain = 0 # 이번 달 총 수입\n",
        "\n",
        "def expenditure(content, dollar):\n",
        "  global loss\n",
        "  loss += dollar\n",
        "  print(f\"{content}(으)로 ${dollar} 지출, 이번 달 총 지출은 ${loss}입니다.\")\n",
        "\n",
        "def income(content, dollar):\n",
        "  global gain\n",
        "  gain += dollar\n",
        "  print(f\"{content}(으)로 ${dollar} 입금, 이번 달 총 수입은 ${gain}입니다.\")\n",
        "\n",
        "def profit():\n",
        "  global loss, gain\n",
        "  print(f\"이번 달 순이익은 ${gain-loss}입니다.\")"
      ],
      "metadata": {
        "id": "lygvzqq7g5TQ"
      },
      "execution_count": null,
      "outputs": []
    },
    {
      "cell_type": "code",
      "source": [
        "expenditure(\"땡땡 인쇄소\", 20000)\n",
        "income(\"네이버 스토어 수익\", 65000)\n",
        "income(\"공식 홈페이지 수익\", 29000)\n",
        "expenditure(\"이번 달 사무실 비품비\", 100)\n",
        "profit()"
      ],
      "metadata": {
        "colab": {
          "base_uri": "https://localhost:8080/"
        },
        "id": "_KNb2GlMb5V2",
        "outputId": "8d30200e-e8c3-4e55-fb99-a08915da9a8a"
      },
      "execution_count": null,
      "outputs": [
        {
          "output_type": "stream",
          "name": "stdout",
          "text": [
            "땡땡 인쇄소(으)로 $20000 지출, 이번 달 총 지출은 $20000입니다.\n",
            "네이버 스토어 수익(으)로 $65000 입금, 이번 달 총 수입은 $65000입니다.\n",
            "공식 홈페이지 수익(으)로 $29000 입금, 이번 달 총 수입은 $94000입니다.\n",
            "이번 달 사무실 비품비(으)로 $100 지출, 이번 달 총 지출은 $20100입니다.\n",
            "이번 달 순이익은 $73900입니다.\n"
          ]
        }
      ]
    },
    {
      "cell_type": "markdown",
      "source": [
        "### **3-3-2.(3점)**\n",
        "- 위처럼 함수를 정의한 이유를 2-3줄 내외로 간단하게 설명해주세요."
      ],
      "metadata": {
        "id": "bOQnOBPKyz2G"
      }
    },
    {
      "cell_type": "markdown",
      "source": [
        "**💡 답안**  \n",
        "(마크다운 셀을 풀고 답안을 작성해 주세요!)  \n"
      ],
      "metadata": {
        "id": "NMAopKE8zTLT"
      }
    },
    {
      "cell_type": "markdown",
      "source": [
        "---\n",
        "(예시답안)\n",
        "\n",
        "loss와 gain은 expenditure, income함수로 지속적으로 업데이트되어야 하는 값입니다. 또한 profit()함수에서 접근할 수 있어야 합니다. 따라서 expenditure, income, profit 함수 내에 loss와 gain을 글로벌 변수로 선언해 값을 저장했습니다.\n",
        "\n",
        "---"
      ],
      "metadata": {
        "id": "FdSraZuWzTuw"
      }
    },
    {
      "cell_type": "markdown",
      "source": [
        "## **3-4. 제시문을 읽고, 예시에 제시된 대로 출력되게 코드를 작성해주세요.(9점)**\n",
        "\n",
        "- 딕셔너리(`students`)에 학생들의 이름과 그 점수 리스트가 저장되어있습니다.\n",
        "\n"
      ],
      "metadata": {
        "id": "-5OHCt7pl_xI"
      }
    },
    {
      "cell_type": "markdown",
      "source": [
        "### **3-4-1.(4점)**\n",
        "\n",
        "- 각 학생의 전과목 평균 점수를 구하려고 합니다.\n",
        "- 아래 예시처럼 출력되게 코드를 작성해주세요.\n",
        "\n",
        "💚 **예시 :**\n",
        "\n",
        "- 입력\n",
        "```python\n",
        "students = {\"민희\":[50,60,70],\n",
        "              \"아영\":[44,55,66],\n",
        "              \"하민\":[12,44,67],\n",
        "              \"레아\":[88,77,66]}\n",
        "```\n",
        "- 출력\n",
        "```python\n",
        "민희의 전과목 평균 점수 :  60.0\n",
        "아영의 전과목 평균 점수 :  55.0\n",
        "하민의 전과목 평균 점수 :  41.0\n",
        "레아의 전과목 평균 점수 :  77.0\n",
        "```"
      ],
      "metadata": {
        "id": "y0vJCdPr00i-"
      }
    },
    {
      "cell_type": "code",
      "source": [
        "### 이 셀은 삭제 및 수정하시면 안됩니다. 실행해주세요!\n",
        "\n",
        "students = {\"민희\":[50,60,70],\n",
        "            \"아영\":[44,55,66],\n",
        "            \"하민\":[12,44,67],\n",
        "            \"레아\":[88,77,66]}"
      ],
      "metadata": {
        "id": "PwKiohrfjqof"
      },
      "execution_count": null,
      "outputs": []
    },
    {
      "cell_type": "code",
      "source": [
        "# 정답 1)\n",
        "for key in students.keys():\n",
        "  print(f'{key}의 전과목 평균 점수 : ',\n",
        "        sum(students[f'{key}'])/len(students[f'{key}']))\n",
        "\n",
        "# 정답 2)\n",
        "for key,value in students.items():\n",
        "  print(f'{key}의 전과목 평균 점수 : ',\n",
        "        sum(value)/len(value))"
      ],
      "metadata": {
        "colab": {
          "base_uri": "https://localhost:8080/"
        },
        "id": "3Em4aUFio4M6",
        "outputId": "f28e7593-182a-4833-9fd2-126ef5456640"
      },
      "execution_count": null,
      "outputs": [
        {
          "output_type": "stream",
          "name": "stdout",
          "text": [
            "민희의 전과목 평균 점수 :  60.0\n",
            "아영의 전과목 평균 점수 :  55.0\n",
            "하민의 전과목 평균 점수 :  41.0\n",
            "레아의 전과목 평균 점수 :  77.0\n",
            "민희의 전과목 평균 점수 :  60.0\n",
            "아영의 전과목 평균 점수 :  55.0\n",
            "하민의 전과목 평균 점수 :  41.0\n",
            "레아의 전과목 평균 점수 :  77.0\n"
          ]
        }
      ]
    },
    {
      "cell_type": "markdown",
      "source": [
        "### **3-4-2.(5점)**\n",
        "\n",
        "- 각 과목의 평균 점수를 구하려고 합니다.\n",
        "- 아래 예시처럼 출력되게 코드를 작성해주세요.\n",
        "\n",
        "**📌조건**\n",
        "- 점수만 저장된 리스트를 생성해 주세요.\n",
        "\n",
        "💚 **예시 :**\n",
        "\n",
        "- 출력\n",
        "```python\n",
        "1번 과목의 평균 점수:  48.5\n",
        "2번 과목의 평균 점수:  59.0\n",
        "3번 과목의 평균 점수:  67.25\n",
        "```"
      ],
      "metadata": {
        "id": "GJjVSk4ntl15"
      }
    },
    {
      "cell_type": "code",
      "source": [
        "# 점수만 저장된 리스트 생성\n",
        "score = list(students.values())\n",
        "# 학생 수 student_number에 저장\n",
        "student_number = len(students)\n",
        "# 과목 수 subject_number에 저장\n",
        "subject_number = len(score[0])\n",
        "\n",
        "# 출력 코드 작성\n",
        "for i in range(subject_number):\n",
        "  total = 0\n",
        "  for j in range(student_number):\n",
        "    total += score[j][i]\n",
        "  print(f'{i+1}번 과목의 평균 점수: ',\n",
        "        total/student_number)"
      ],
      "metadata": {
        "colab": {
          "base_uri": "https://localhost:8080/"
        },
        "id": "WcXRF02BtXgj",
        "outputId": "c0fe0292-f4ed-4271-9340-a7bd1dbd3663"
      },
      "execution_count": null,
      "outputs": [
        {
          "output_type": "stream",
          "name": "stdout",
          "text": [
            "1번 과목의 평균 점수:  48.5\n",
            "2번 과목의 평균 점수:  59.0\n",
            "3번 과목의 평균 점수:  67.25\n"
          ]
        }
      ]
    },
    {
      "cell_type": "markdown",
      "source": [
        "# **4️⃣ Part 4 (10점)**\n",
        "- Part 4는 ML세션에서 다룰 **판다스, 넘파이**와 관련된 기본적인 문제들입니다.\n",
        "- 앞 공지에서 말씀드렸듯, 이 문제의 점수가 1차 통과의 당락을 결정하진 않습니다. 교재, 구글링, ChatGPT, 지인 찬스 등을 통해 최대한 풀어 제출해 주시면 됩니다.\n",
        "- 주어진 조건에 따라 해당 작업을 수행하는 코드를 작성해주세요.\n",
        "---"
      ],
      "metadata": {
        "id": "VhEKdLTjD1oA"
      }
    },
    {
      "cell_type": "markdown",
      "source": [
        "## **4-1. 넘파이(5점)**\n",
        "- 주어진 배열에서 모든 요소의 평균값을 구하는 코드를 작성하세요.\n",
        "\n",
        "  - 배열 요소들은 9, 7, 1.4, 5.3423, 4.29입니다.\n",
        "  - 이를 `numpy` 배열로 정의하여 평균을 계산하세요.\n"
      ],
      "metadata": {
        "id": "Tp5PlDxAqK_c"
      }
    },
    {
      "cell_type": "markdown",
      "source": [
        "**📌 조건**  \n",
        "- `numpy` 내장 함수를 활용해 주세요.\n",
        "- 배열은 `arr`라는 변수에 직접 정의해 주세요.\n",
        "  - `arr` 변수의 type은 `numpy.ndarray`여야 합니다.\n",
        "- 배열의 평균값을 계산한 후 출력해주세요.\n",
        "- 배열 내 원소들의 형식을 str형식으로 변환해 주세요."
      ],
      "metadata": {
        "id": "dosZi1k-ZtNm"
      }
    },
    {
      "cell_type": "code",
      "source": [
        "import numpy as np  # 넘파이 모듈 호출\n",
        "\n",
        "# 배열 정의\n",
        "elements = [9, 7, 1.4, 5.3423, 4.29]\n",
        "arr = np.array(elements)  ###답안###\n",
        "\n",
        "# 평균값 계산\n",
        "mean_value = np.mean(arr)  ###답안###\n",
        "print(mean_value)\n",
        "\n",
        "# 배열내 원소들의 형식을 str형식으로 변환\n",
        "arr = arr.astype(\"str\") ###답안###\n",
        "print(arr)"
      ],
      "metadata": {
        "id": "GaJhpAdYZzjT",
        "colab": {
          "base_uri": "https://localhost:8080/"
        },
        "outputId": "d2d98076-4615-400e-c99b-8b996e376c79"
      },
      "execution_count": null,
      "outputs": [
        {
          "output_type": "stream",
          "name": "stdout",
          "text": [
            "5.40646\n",
            "['9.0' '7.0' '1.4' '5.3423' '4.29']\n"
          ]
        }
      ]
    },
    {
      "cell_type": "markdown",
      "source": [
        "## **4-2. 판다스(5점)**\n",
        "### **제시문에 따라 문제를 해결해 주세요.**\n",
        "- 우선 판다스 모듈을 import하고, 데이터 분석에 활용할 데이터 프레임을 생성하겠습니다."
      ],
      "metadata": {
        "id": "GRCKutcPqNpY"
      }
    },
    {
      "cell_type": "code",
      "source": [
        "### 실행해 주세요!\n",
        "\n",
        "# 판다스 모듈 호출\n",
        "import pandas as pd\n",
        "\n",
        "data = {\n",
        "    \"모델명\": [\"소나타\", \"아반떼\", \"그랜저\", \"쏘렌토\", \"카니발\", \"스포티지\", \"K5\", \"K7\", \"모닝\", \"GV80\"],\n",
        "    \"브랜드\": [\"현대\", \"현대\", \"현대\", \"기아\", \"기아\", \"기아\", \"기아\", \"기아\", \"기아\", \"제네시스\"],\n",
        "    \"가격(만원)\": [2500, 1800, 3800, 3500, 4000, 3000, 2700, 3500, 1200, 6000],\n",
        "    \"판매량\": [500, 800, 400, 450, 300, 350, 420, 200, 600, 150]\n",
        "}\n",
        "\n",
        "# 데이터프레임 생성\n",
        "df = pd.DataFrame(data)\n",
        "df"
      ],
      "metadata": {
        "id": "CqmaDYvV-nEX",
        "outputId": "34601da7-b3f3-411b-a8a1-72384292b2cb",
        "colab": {
          "base_uri": "https://localhost:8080/",
          "height": 363
        }
      },
      "execution_count": null,
      "outputs": [
        {
          "output_type": "execute_result",
          "data": {
            "text/plain": [
              "    모델명   브랜드  가격(만원)  판매량\n",
              "0   소나타    현대    2500  500\n",
              "1   아반떼    현대    1800  800\n",
              "2   그랜저    현대    3800  400\n",
              "3   쏘렌토    기아    3500  450\n",
              "4   카니발    기아    4000  300\n",
              "5  스포티지    기아    3000  350\n",
              "6    K5    기아    2700  420\n",
              "7    K7    기아    3500  200\n",
              "8    모닝    기아    1200  600\n",
              "9  GV80  제네시스    6000  150"
            ],
            "text/html": [
              "\n",
              "  <div id=\"df-d35e15cd-23e4-4abc-96e1-92a2e4cf574d\" class=\"colab-df-container\">\n",
              "    <div>\n",
              "<style scoped>\n",
              "    .dataframe tbody tr th:only-of-type {\n",
              "        vertical-align: middle;\n",
              "    }\n",
              "\n",
              "    .dataframe tbody tr th {\n",
              "        vertical-align: top;\n",
              "    }\n",
              "\n",
              "    .dataframe thead th {\n",
              "        text-align: right;\n",
              "    }\n",
              "</style>\n",
              "<table border=\"1\" class=\"dataframe\">\n",
              "  <thead>\n",
              "    <tr style=\"text-align: right;\">\n",
              "      <th></th>\n",
              "      <th>모델명</th>\n",
              "      <th>브랜드</th>\n",
              "      <th>가격(만원)</th>\n",
              "      <th>판매량</th>\n",
              "    </tr>\n",
              "  </thead>\n",
              "  <tbody>\n",
              "    <tr>\n",
              "      <th>0</th>\n",
              "      <td>소나타</td>\n",
              "      <td>현대</td>\n",
              "      <td>2500</td>\n",
              "      <td>500</td>\n",
              "    </tr>\n",
              "    <tr>\n",
              "      <th>1</th>\n",
              "      <td>아반떼</td>\n",
              "      <td>현대</td>\n",
              "      <td>1800</td>\n",
              "      <td>800</td>\n",
              "    </tr>\n",
              "    <tr>\n",
              "      <th>2</th>\n",
              "      <td>그랜저</td>\n",
              "      <td>현대</td>\n",
              "      <td>3800</td>\n",
              "      <td>400</td>\n",
              "    </tr>\n",
              "    <tr>\n",
              "      <th>3</th>\n",
              "      <td>쏘렌토</td>\n",
              "      <td>기아</td>\n",
              "      <td>3500</td>\n",
              "      <td>450</td>\n",
              "    </tr>\n",
              "    <tr>\n",
              "      <th>4</th>\n",
              "      <td>카니발</td>\n",
              "      <td>기아</td>\n",
              "      <td>4000</td>\n",
              "      <td>300</td>\n",
              "    </tr>\n",
              "    <tr>\n",
              "      <th>5</th>\n",
              "      <td>스포티지</td>\n",
              "      <td>기아</td>\n",
              "      <td>3000</td>\n",
              "      <td>350</td>\n",
              "    </tr>\n",
              "    <tr>\n",
              "      <th>6</th>\n",
              "      <td>K5</td>\n",
              "      <td>기아</td>\n",
              "      <td>2700</td>\n",
              "      <td>420</td>\n",
              "    </tr>\n",
              "    <tr>\n",
              "      <th>7</th>\n",
              "      <td>K7</td>\n",
              "      <td>기아</td>\n",
              "      <td>3500</td>\n",
              "      <td>200</td>\n",
              "    </tr>\n",
              "    <tr>\n",
              "      <th>8</th>\n",
              "      <td>모닝</td>\n",
              "      <td>기아</td>\n",
              "      <td>1200</td>\n",
              "      <td>600</td>\n",
              "    </tr>\n",
              "    <tr>\n",
              "      <th>9</th>\n",
              "      <td>GV80</td>\n",
              "      <td>제네시스</td>\n",
              "      <td>6000</td>\n",
              "      <td>150</td>\n",
              "    </tr>\n",
              "  </tbody>\n",
              "</table>\n",
              "</div>\n",
              "    <div class=\"colab-df-buttons\">\n",
              "\n",
              "  <div class=\"colab-df-container\">\n",
              "    <button class=\"colab-df-convert\" onclick=\"convertToInteractive('df-d35e15cd-23e4-4abc-96e1-92a2e4cf574d')\"\n",
              "            title=\"Convert this dataframe to an interactive table.\"\n",
              "            style=\"display:none;\">\n",
              "\n",
              "  <svg xmlns=\"http://www.w3.org/2000/svg\" height=\"24px\" viewBox=\"0 -960 960 960\">\n",
              "    <path d=\"M120-120v-720h720v720H120Zm60-500h600v-160H180v160Zm220 220h160v-160H400v160Zm0 220h160v-160H400v160ZM180-400h160v-160H180v160Zm440 0h160v-160H620v160ZM180-180h160v-160H180v160Zm440 0h160v-160H620v160Z\"/>\n",
              "  </svg>\n",
              "    </button>\n",
              "\n",
              "  <style>\n",
              "    .colab-df-container {\n",
              "      display:flex;\n",
              "      gap: 12px;\n",
              "    }\n",
              "\n",
              "    .colab-df-convert {\n",
              "      background-color: #E8F0FE;\n",
              "      border: none;\n",
              "      border-radius: 50%;\n",
              "      cursor: pointer;\n",
              "      display: none;\n",
              "      fill: #1967D2;\n",
              "      height: 32px;\n",
              "      padding: 0 0 0 0;\n",
              "      width: 32px;\n",
              "    }\n",
              "\n",
              "    .colab-df-convert:hover {\n",
              "      background-color: #E2EBFA;\n",
              "      box-shadow: 0px 1px 2px rgba(60, 64, 67, 0.3), 0px 1px 3px 1px rgba(60, 64, 67, 0.15);\n",
              "      fill: #174EA6;\n",
              "    }\n",
              "\n",
              "    .colab-df-buttons div {\n",
              "      margin-bottom: 4px;\n",
              "    }\n",
              "\n",
              "    [theme=dark] .colab-df-convert {\n",
              "      background-color: #3B4455;\n",
              "      fill: #D2E3FC;\n",
              "    }\n",
              "\n",
              "    [theme=dark] .colab-df-convert:hover {\n",
              "      background-color: #434B5C;\n",
              "      box-shadow: 0px 1px 3px 1px rgba(0, 0, 0, 0.15);\n",
              "      filter: drop-shadow(0px 1px 2px rgba(0, 0, 0, 0.3));\n",
              "      fill: #FFFFFF;\n",
              "    }\n",
              "  </style>\n",
              "\n",
              "    <script>\n",
              "      const buttonEl =\n",
              "        document.querySelector('#df-d35e15cd-23e4-4abc-96e1-92a2e4cf574d button.colab-df-convert');\n",
              "      buttonEl.style.display =\n",
              "        google.colab.kernel.accessAllowed ? 'block' : 'none';\n",
              "\n",
              "      async function convertToInteractive(key) {\n",
              "        const element = document.querySelector('#df-d35e15cd-23e4-4abc-96e1-92a2e4cf574d');\n",
              "        const dataTable =\n",
              "          await google.colab.kernel.invokeFunction('convertToInteractive',\n",
              "                                                    [key], {});\n",
              "        if (!dataTable) return;\n",
              "\n",
              "        const docLinkHtml = 'Like what you see? Visit the ' +\n",
              "          '<a target=\"_blank\" href=https://colab.research.google.com/notebooks/data_table.ipynb>data table notebook</a>'\n",
              "          + ' to learn more about interactive tables.';\n",
              "        element.innerHTML = '';\n",
              "        dataTable['output_type'] = 'display_data';\n",
              "        await google.colab.output.renderOutput(dataTable, element);\n",
              "        const docLink = document.createElement('div');\n",
              "        docLink.innerHTML = docLinkHtml;\n",
              "        element.appendChild(docLink);\n",
              "      }\n",
              "    </script>\n",
              "  </div>\n",
              "\n",
              "\n",
              "    <div id=\"df-6c46a6da-cc50-4d4f-8346-23e27de98b89\">\n",
              "      <button class=\"colab-df-quickchart\" onclick=\"quickchart('df-6c46a6da-cc50-4d4f-8346-23e27de98b89')\"\n",
              "                title=\"Suggest charts\"\n",
              "                style=\"display:none;\">\n",
              "\n",
              "<svg xmlns=\"http://www.w3.org/2000/svg\" height=\"24px\"viewBox=\"0 0 24 24\"\n",
              "     width=\"24px\">\n",
              "    <g>\n",
              "        <path d=\"M19 3H5c-1.1 0-2 .9-2 2v14c0 1.1.9 2 2 2h14c1.1 0 2-.9 2-2V5c0-1.1-.9-2-2-2zM9 17H7v-7h2v7zm4 0h-2V7h2v10zm4 0h-2v-4h2v4z\"/>\n",
              "    </g>\n",
              "</svg>\n",
              "      </button>\n",
              "\n",
              "<style>\n",
              "  .colab-df-quickchart {\n",
              "      --bg-color: #E8F0FE;\n",
              "      --fill-color: #1967D2;\n",
              "      --hover-bg-color: #E2EBFA;\n",
              "      --hover-fill-color: #174EA6;\n",
              "      --disabled-fill-color: #AAA;\n",
              "      --disabled-bg-color: #DDD;\n",
              "  }\n",
              "\n",
              "  [theme=dark] .colab-df-quickchart {\n",
              "      --bg-color: #3B4455;\n",
              "      --fill-color: #D2E3FC;\n",
              "      --hover-bg-color: #434B5C;\n",
              "      --hover-fill-color: #FFFFFF;\n",
              "      --disabled-bg-color: #3B4455;\n",
              "      --disabled-fill-color: #666;\n",
              "  }\n",
              "\n",
              "  .colab-df-quickchart {\n",
              "    background-color: var(--bg-color);\n",
              "    border: none;\n",
              "    border-radius: 50%;\n",
              "    cursor: pointer;\n",
              "    display: none;\n",
              "    fill: var(--fill-color);\n",
              "    height: 32px;\n",
              "    padding: 0;\n",
              "    width: 32px;\n",
              "  }\n",
              "\n",
              "  .colab-df-quickchart:hover {\n",
              "    background-color: var(--hover-bg-color);\n",
              "    box-shadow: 0 1px 2px rgba(60, 64, 67, 0.3), 0 1px 3px 1px rgba(60, 64, 67, 0.15);\n",
              "    fill: var(--button-hover-fill-color);\n",
              "  }\n",
              "\n",
              "  .colab-df-quickchart-complete:disabled,\n",
              "  .colab-df-quickchart-complete:disabled:hover {\n",
              "    background-color: var(--disabled-bg-color);\n",
              "    fill: var(--disabled-fill-color);\n",
              "    box-shadow: none;\n",
              "  }\n",
              "\n",
              "  .colab-df-spinner {\n",
              "    border: 2px solid var(--fill-color);\n",
              "    border-color: transparent;\n",
              "    border-bottom-color: var(--fill-color);\n",
              "    animation:\n",
              "      spin 1s steps(1) infinite;\n",
              "  }\n",
              "\n",
              "  @keyframes spin {\n",
              "    0% {\n",
              "      border-color: transparent;\n",
              "      border-bottom-color: var(--fill-color);\n",
              "      border-left-color: var(--fill-color);\n",
              "    }\n",
              "    20% {\n",
              "      border-color: transparent;\n",
              "      border-left-color: var(--fill-color);\n",
              "      border-top-color: var(--fill-color);\n",
              "    }\n",
              "    30% {\n",
              "      border-color: transparent;\n",
              "      border-left-color: var(--fill-color);\n",
              "      border-top-color: var(--fill-color);\n",
              "      border-right-color: var(--fill-color);\n",
              "    }\n",
              "    40% {\n",
              "      border-color: transparent;\n",
              "      border-right-color: var(--fill-color);\n",
              "      border-top-color: var(--fill-color);\n",
              "    }\n",
              "    60% {\n",
              "      border-color: transparent;\n",
              "      border-right-color: var(--fill-color);\n",
              "    }\n",
              "    80% {\n",
              "      border-color: transparent;\n",
              "      border-right-color: var(--fill-color);\n",
              "      border-bottom-color: var(--fill-color);\n",
              "    }\n",
              "    90% {\n",
              "      border-color: transparent;\n",
              "      border-bottom-color: var(--fill-color);\n",
              "    }\n",
              "  }\n",
              "</style>\n",
              "\n",
              "      <script>\n",
              "        async function quickchart(key) {\n",
              "          const quickchartButtonEl =\n",
              "            document.querySelector('#' + key + ' button');\n",
              "          quickchartButtonEl.disabled = true;  // To prevent multiple clicks.\n",
              "          quickchartButtonEl.classList.add('colab-df-spinner');\n",
              "          try {\n",
              "            const charts = await google.colab.kernel.invokeFunction(\n",
              "                'suggestCharts', [key], {});\n",
              "          } catch (error) {\n",
              "            console.error('Error during call to suggestCharts:', error);\n",
              "          }\n",
              "          quickchartButtonEl.classList.remove('colab-df-spinner');\n",
              "          quickchartButtonEl.classList.add('colab-df-quickchart-complete');\n",
              "        }\n",
              "        (() => {\n",
              "          let quickchartButtonEl =\n",
              "            document.querySelector('#df-6c46a6da-cc50-4d4f-8346-23e27de98b89 button');\n",
              "          quickchartButtonEl.style.display =\n",
              "            google.colab.kernel.accessAllowed ? 'block' : 'none';\n",
              "        })();\n",
              "      </script>\n",
              "    </div>\n",
              "\n",
              "  <div id=\"id_1d17e4b2-3af7-4a34-92c5-b42e1c90a6fe\">\n",
              "    <style>\n",
              "      .colab-df-generate {\n",
              "        background-color: #E8F0FE;\n",
              "        border: none;\n",
              "        border-radius: 50%;\n",
              "        cursor: pointer;\n",
              "        display: none;\n",
              "        fill: #1967D2;\n",
              "        height: 32px;\n",
              "        padding: 0 0 0 0;\n",
              "        width: 32px;\n",
              "      }\n",
              "\n",
              "      .colab-df-generate:hover {\n",
              "        background-color: #E2EBFA;\n",
              "        box-shadow: 0px 1px 2px rgba(60, 64, 67, 0.3), 0px 1px 3px 1px rgba(60, 64, 67, 0.15);\n",
              "        fill: #174EA6;\n",
              "      }\n",
              "\n",
              "      [theme=dark] .colab-df-generate {\n",
              "        background-color: #3B4455;\n",
              "        fill: #D2E3FC;\n",
              "      }\n",
              "\n",
              "      [theme=dark] .colab-df-generate:hover {\n",
              "        background-color: #434B5C;\n",
              "        box-shadow: 0px 1px 3px 1px rgba(0, 0, 0, 0.15);\n",
              "        filter: drop-shadow(0px 1px 2px rgba(0, 0, 0, 0.3));\n",
              "        fill: #FFFFFF;\n",
              "      }\n",
              "    </style>\n",
              "    <button class=\"colab-df-generate\" onclick=\"generateWithVariable('df')\"\n",
              "            title=\"Generate code using this dataframe.\"\n",
              "            style=\"display:none;\">\n",
              "\n",
              "  <svg xmlns=\"http://www.w3.org/2000/svg\" height=\"24px\"viewBox=\"0 0 24 24\"\n",
              "       width=\"24px\">\n",
              "    <path d=\"M7,19H8.4L18.45,9,17,7.55,7,17.6ZM5,21V16.75L18.45,3.32a2,2,0,0,1,2.83,0l1.4,1.43a1.91,1.91,0,0,1,.58,1.4,1.91,1.91,0,0,1-.58,1.4L9.25,21ZM18.45,9,17,7.55Zm-12,3A5.31,5.31,0,0,0,4.9,8.1,5.31,5.31,0,0,0,1,6.5,5.31,5.31,0,0,0,4.9,4.9,5.31,5.31,0,0,0,6.5,1,5.31,5.31,0,0,0,8.1,4.9,5.31,5.31,0,0,0,12,6.5,5.46,5.46,0,0,0,6.5,12Z\"/>\n",
              "  </svg>\n",
              "    </button>\n",
              "    <script>\n",
              "      (() => {\n",
              "      const buttonEl =\n",
              "        document.querySelector('#id_1d17e4b2-3af7-4a34-92c5-b42e1c90a6fe button.colab-df-generate');\n",
              "      buttonEl.style.display =\n",
              "        google.colab.kernel.accessAllowed ? 'block' : 'none';\n",
              "\n",
              "      buttonEl.onclick = () => {\n",
              "        google.colab.notebook.generateWithVariable('df');\n",
              "      }\n",
              "      })();\n",
              "    </script>\n",
              "  </div>\n",
              "\n",
              "    </div>\n",
              "  </div>\n"
            ],
            "application/vnd.google.colaboratory.intrinsic+json": {
              "type": "dataframe",
              "variable_name": "df",
              "summary": "{\n  \"name\": \"df\",\n  \"rows\": 10,\n  \"fields\": [\n    {\n      \"column\": \"\\ubaa8\\ub378\\uba85\",\n      \"properties\": {\n        \"dtype\": \"string\",\n        \"num_unique_values\": 10,\n        \"samples\": [\n          \"\\ubaa8\\ub2dd\",\n          \"\\uc544\\ubc18\\ub5bc\",\n          \"\\uc2a4\\ud3ec\\ud2f0\\uc9c0\"\n        ],\n        \"semantic_type\": \"\",\n        \"description\": \"\"\n      }\n    },\n    {\n      \"column\": \"\\ube0c\\ub79c\\ub4dc\",\n      \"properties\": {\n        \"dtype\": \"category\",\n        \"num_unique_values\": 3,\n        \"samples\": [\n          \"\\ud604\\ub300\",\n          \"\\uae30\\uc544\",\n          \"\\uc81c\\ub124\\uc2dc\\uc2a4\"\n        ],\n        \"semantic_type\": \"\",\n        \"description\": \"\"\n      }\n    },\n    {\n      \"column\": \"\\uac00\\uaca9(\\ub9cc\\uc6d0)\",\n      \"properties\": {\n        \"dtype\": \"number\",\n        \"std\": 1323,\n        \"min\": 1200,\n        \"max\": 6000,\n        \"num_unique_values\": 9,\n        \"samples\": [\n          1200,\n          1800,\n          3000\n        ],\n        \"semantic_type\": \"\",\n        \"description\": \"\"\n      }\n    },\n    {\n      \"column\": \"\\ud310\\ub9e4\\ub7c9\",\n      \"properties\": {\n        \"dtype\": \"number\",\n        \"std\": 190,\n        \"min\": 150,\n        \"max\": 800,\n        \"num_unique_values\": 10,\n        \"samples\": [\n          600,\n          800,\n          350\n        ],\n        \"semantic_type\": \"\",\n        \"description\": \"\"\n      }\n    }\n  ]\n}"
            }
          },
          "metadata": {},
          "execution_count": 21
        }
      ]
    },
    {
      "cell_type": "markdown",
      "source": [
        "### **4-2-1. 브랜드별 데이터의 개수를 구해주세요.(2점)**\n",
        "**🔍 힌트**\n",
        "- 판다스에는 데이터의 특정 열(column)에 있는 값들의 개수를 세는 방법이 있어요."
      ],
      "metadata": {
        "id": "HmTE5vt-_r-N"
      }
    },
    {
      "cell_type": "code",
      "source": [
        "df['브랜드'].value_counts()"
      ],
      "metadata": {
        "colab": {
          "base_uri": "https://localhost:8080/",
          "height": 210
        },
        "id": "wDO7VJsi_Eo7",
        "outputId": "d0a45502-273f-4990-c534-68402ff94eb9"
      },
      "execution_count": null,
      "outputs": [
        {
          "output_type": "execute_result",
          "data": {
            "text/plain": [
              "브랜드\n",
              "기아      6\n",
              "현대      3\n",
              "제네시스    1\n",
              "Name: count, dtype: int64"
            ],
            "text/html": [
              "<div>\n",
              "<style scoped>\n",
              "    .dataframe tbody tr th:only-of-type {\n",
              "        vertical-align: middle;\n",
              "    }\n",
              "\n",
              "    .dataframe tbody tr th {\n",
              "        vertical-align: top;\n",
              "    }\n",
              "\n",
              "    .dataframe thead th {\n",
              "        text-align: right;\n",
              "    }\n",
              "</style>\n",
              "<table border=\"1\" class=\"dataframe\">\n",
              "  <thead>\n",
              "    <tr style=\"text-align: right;\">\n",
              "      <th></th>\n",
              "      <th>count</th>\n",
              "    </tr>\n",
              "    <tr>\n",
              "      <th>브랜드</th>\n",
              "      <th></th>\n",
              "    </tr>\n",
              "  </thead>\n",
              "  <tbody>\n",
              "    <tr>\n",
              "      <th>기아</th>\n",
              "      <td>6</td>\n",
              "    </tr>\n",
              "    <tr>\n",
              "      <th>현대</th>\n",
              "      <td>3</td>\n",
              "    </tr>\n",
              "    <tr>\n",
              "      <th>제네시스</th>\n",
              "      <td>1</td>\n",
              "    </tr>\n",
              "  </tbody>\n",
              "</table>\n",
              "</div><br><label><b>dtype:</b> int64</label>"
            ]
          },
          "metadata": {},
          "execution_count": 22
        }
      ]
    },
    {
      "cell_type": "markdown",
      "source": [
        "### **4-2-2. 각 상품의 총 매출액(가격(만원)× 판매량)을 계산하여 새로운 `총매출(만원)` 열을 추가해 주세요.(3점)**"
      ],
      "metadata": {
        "id": "-wtWMVNy_l6K"
      }
    },
    {
      "cell_type": "code",
      "source": [
        "df[\"총매출(만원)\"] = df[\"가격(만원)\"] * df[\"판매량\"]\n",
        "\n",
        "# 결과 확인\n",
        "df"
      ],
      "metadata": {
        "colab": {
          "base_uri": "https://localhost:8080/",
          "height": 363
        },
        "id": "WNSgSJ49-73-",
        "outputId": "aa006ebe-2e74-40c4-e9c9-4893e9355b1f"
      },
      "execution_count": null,
      "outputs": [
        {
          "output_type": "execute_result",
          "data": {
            "text/plain": [
              "    모델명   브랜드  가격(만원)  판매량  총매출(만원)\n",
              "0   소나타    현대    2500  500  1250000\n",
              "1   아반떼    현대    1800  800  1440000\n",
              "2   그랜저    현대    3800  400  1520000\n",
              "3   쏘렌토    기아    3500  450  1575000\n",
              "4   카니발    기아    4000  300  1200000\n",
              "5  스포티지    기아    3000  350  1050000\n",
              "6    K5    기아    2700  420  1134000\n",
              "7    K7    기아    3500  200   700000\n",
              "8    모닝    기아    1200  600   720000\n",
              "9  GV80  제네시스    6000  150   900000"
            ],
            "text/html": [
              "\n",
              "  <div id=\"df-3f9d3881-1332-4387-ae6e-97e661367659\" class=\"colab-df-container\">\n",
              "    <div>\n",
              "<style scoped>\n",
              "    .dataframe tbody tr th:only-of-type {\n",
              "        vertical-align: middle;\n",
              "    }\n",
              "\n",
              "    .dataframe tbody tr th {\n",
              "        vertical-align: top;\n",
              "    }\n",
              "\n",
              "    .dataframe thead th {\n",
              "        text-align: right;\n",
              "    }\n",
              "</style>\n",
              "<table border=\"1\" class=\"dataframe\">\n",
              "  <thead>\n",
              "    <tr style=\"text-align: right;\">\n",
              "      <th></th>\n",
              "      <th>모델명</th>\n",
              "      <th>브랜드</th>\n",
              "      <th>가격(만원)</th>\n",
              "      <th>판매량</th>\n",
              "      <th>총매출(만원)</th>\n",
              "    </tr>\n",
              "  </thead>\n",
              "  <tbody>\n",
              "    <tr>\n",
              "      <th>0</th>\n",
              "      <td>소나타</td>\n",
              "      <td>현대</td>\n",
              "      <td>2500</td>\n",
              "      <td>500</td>\n",
              "      <td>1250000</td>\n",
              "    </tr>\n",
              "    <tr>\n",
              "      <th>1</th>\n",
              "      <td>아반떼</td>\n",
              "      <td>현대</td>\n",
              "      <td>1800</td>\n",
              "      <td>800</td>\n",
              "      <td>1440000</td>\n",
              "    </tr>\n",
              "    <tr>\n",
              "      <th>2</th>\n",
              "      <td>그랜저</td>\n",
              "      <td>현대</td>\n",
              "      <td>3800</td>\n",
              "      <td>400</td>\n",
              "      <td>1520000</td>\n",
              "    </tr>\n",
              "    <tr>\n",
              "      <th>3</th>\n",
              "      <td>쏘렌토</td>\n",
              "      <td>기아</td>\n",
              "      <td>3500</td>\n",
              "      <td>450</td>\n",
              "      <td>1575000</td>\n",
              "    </tr>\n",
              "    <tr>\n",
              "      <th>4</th>\n",
              "      <td>카니발</td>\n",
              "      <td>기아</td>\n",
              "      <td>4000</td>\n",
              "      <td>300</td>\n",
              "      <td>1200000</td>\n",
              "    </tr>\n",
              "    <tr>\n",
              "      <th>5</th>\n",
              "      <td>스포티지</td>\n",
              "      <td>기아</td>\n",
              "      <td>3000</td>\n",
              "      <td>350</td>\n",
              "      <td>1050000</td>\n",
              "    </tr>\n",
              "    <tr>\n",
              "      <th>6</th>\n",
              "      <td>K5</td>\n",
              "      <td>기아</td>\n",
              "      <td>2700</td>\n",
              "      <td>420</td>\n",
              "      <td>1134000</td>\n",
              "    </tr>\n",
              "    <tr>\n",
              "      <th>7</th>\n",
              "      <td>K7</td>\n",
              "      <td>기아</td>\n",
              "      <td>3500</td>\n",
              "      <td>200</td>\n",
              "      <td>700000</td>\n",
              "    </tr>\n",
              "    <tr>\n",
              "      <th>8</th>\n",
              "      <td>모닝</td>\n",
              "      <td>기아</td>\n",
              "      <td>1200</td>\n",
              "      <td>600</td>\n",
              "      <td>720000</td>\n",
              "    </tr>\n",
              "    <tr>\n",
              "      <th>9</th>\n",
              "      <td>GV80</td>\n",
              "      <td>제네시스</td>\n",
              "      <td>6000</td>\n",
              "      <td>150</td>\n",
              "      <td>900000</td>\n",
              "    </tr>\n",
              "  </tbody>\n",
              "</table>\n",
              "</div>\n",
              "    <div class=\"colab-df-buttons\">\n",
              "\n",
              "  <div class=\"colab-df-container\">\n",
              "    <button class=\"colab-df-convert\" onclick=\"convertToInteractive('df-3f9d3881-1332-4387-ae6e-97e661367659')\"\n",
              "            title=\"Convert this dataframe to an interactive table.\"\n",
              "            style=\"display:none;\">\n",
              "\n",
              "  <svg xmlns=\"http://www.w3.org/2000/svg\" height=\"24px\" viewBox=\"0 -960 960 960\">\n",
              "    <path d=\"M120-120v-720h720v720H120Zm60-500h600v-160H180v160Zm220 220h160v-160H400v160Zm0 220h160v-160H400v160ZM180-400h160v-160H180v160Zm440 0h160v-160H620v160ZM180-180h160v-160H180v160Zm440 0h160v-160H620v160Z\"/>\n",
              "  </svg>\n",
              "    </button>\n",
              "\n",
              "  <style>\n",
              "    .colab-df-container {\n",
              "      display:flex;\n",
              "      gap: 12px;\n",
              "    }\n",
              "\n",
              "    .colab-df-convert {\n",
              "      background-color: #E8F0FE;\n",
              "      border: none;\n",
              "      border-radius: 50%;\n",
              "      cursor: pointer;\n",
              "      display: none;\n",
              "      fill: #1967D2;\n",
              "      height: 32px;\n",
              "      padding: 0 0 0 0;\n",
              "      width: 32px;\n",
              "    }\n",
              "\n",
              "    .colab-df-convert:hover {\n",
              "      background-color: #E2EBFA;\n",
              "      box-shadow: 0px 1px 2px rgba(60, 64, 67, 0.3), 0px 1px 3px 1px rgba(60, 64, 67, 0.15);\n",
              "      fill: #174EA6;\n",
              "    }\n",
              "\n",
              "    .colab-df-buttons div {\n",
              "      margin-bottom: 4px;\n",
              "    }\n",
              "\n",
              "    [theme=dark] .colab-df-convert {\n",
              "      background-color: #3B4455;\n",
              "      fill: #D2E3FC;\n",
              "    }\n",
              "\n",
              "    [theme=dark] .colab-df-convert:hover {\n",
              "      background-color: #434B5C;\n",
              "      box-shadow: 0px 1px 3px 1px rgba(0, 0, 0, 0.15);\n",
              "      filter: drop-shadow(0px 1px 2px rgba(0, 0, 0, 0.3));\n",
              "      fill: #FFFFFF;\n",
              "    }\n",
              "  </style>\n",
              "\n",
              "    <script>\n",
              "      const buttonEl =\n",
              "        document.querySelector('#df-3f9d3881-1332-4387-ae6e-97e661367659 button.colab-df-convert');\n",
              "      buttonEl.style.display =\n",
              "        google.colab.kernel.accessAllowed ? 'block' : 'none';\n",
              "\n",
              "      async function convertToInteractive(key) {\n",
              "        const element = document.querySelector('#df-3f9d3881-1332-4387-ae6e-97e661367659');\n",
              "        const dataTable =\n",
              "          await google.colab.kernel.invokeFunction('convertToInteractive',\n",
              "                                                    [key], {});\n",
              "        if (!dataTable) return;\n",
              "\n",
              "        const docLinkHtml = 'Like what you see? Visit the ' +\n",
              "          '<a target=\"_blank\" href=https://colab.research.google.com/notebooks/data_table.ipynb>data table notebook</a>'\n",
              "          + ' to learn more about interactive tables.';\n",
              "        element.innerHTML = '';\n",
              "        dataTable['output_type'] = 'display_data';\n",
              "        await google.colab.output.renderOutput(dataTable, element);\n",
              "        const docLink = document.createElement('div');\n",
              "        docLink.innerHTML = docLinkHtml;\n",
              "        element.appendChild(docLink);\n",
              "      }\n",
              "    </script>\n",
              "  </div>\n",
              "\n",
              "\n",
              "    <div id=\"df-978f2481-6d2e-4e26-bafd-b241a00444a5\">\n",
              "      <button class=\"colab-df-quickchart\" onclick=\"quickchart('df-978f2481-6d2e-4e26-bafd-b241a00444a5')\"\n",
              "                title=\"Suggest charts\"\n",
              "                style=\"display:none;\">\n",
              "\n",
              "<svg xmlns=\"http://www.w3.org/2000/svg\" height=\"24px\"viewBox=\"0 0 24 24\"\n",
              "     width=\"24px\">\n",
              "    <g>\n",
              "        <path d=\"M19 3H5c-1.1 0-2 .9-2 2v14c0 1.1.9 2 2 2h14c1.1 0 2-.9 2-2V5c0-1.1-.9-2-2-2zM9 17H7v-7h2v7zm4 0h-2V7h2v10zm4 0h-2v-4h2v4z\"/>\n",
              "    </g>\n",
              "</svg>\n",
              "      </button>\n",
              "\n",
              "<style>\n",
              "  .colab-df-quickchart {\n",
              "      --bg-color: #E8F0FE;\n",
              "      --fill-color: #1967D2;\n",
              "      --hover-bg-color: #E2EBFA;\n",
              "      --hover-fill-color: #174EA6;\n",
              "      --disabled-fill-color: #AAA;\n",
              "      --disabled-bg-color: #DDD;\n",
              "  }\n",
              "\n",
              "  [theme=dark] .colab-df-quickchart {\n",
              "      --bg-color: #3B4455;\n",
              "      --fill-color: #D2E3FC;\n",
              "      --hover-bg-color: #434B5C;\n",
              "      --hover-fill-color: #FFFFFF;\n",
              "      --disabled-bg-color: #3B4455;\n",
              "      --disabled-fill-color: #666;\n",
              "  }\n",
              "\n",
              "  .colab-df-quickchart {\n",
              "    background-color: var(--bg-color);\n",
              "    border: none;\n",
              "    border-radius: 50%;\n",
              "    cursor: pointer;\n",
              "    display: none;\n",
              "    fill: var(--fill-color);\n",
              "    height: 32px;\n",
              "    padding: 0;\n",
              "    width: 32px;\n",
              "  }\n",
              "\n",
              "  .colab-df-quickchart:hover {\n",
              "    background-color: var(--hover-bg-color);\n",
              "    box-shadow: 0 1px 2px rgba(60, 64, 67, 0.3), 0 1px 3px 1px rgba(60, 64, 67, 0.15);\n",
              "    fill: var(--button-hover-fill-color);\n",
              "  }\n",
              "\n",
              "  .colab-df-quickchart-complete:disabled,\n",
              "  .colab-df-quickchart-complete:disabled:hover {\n",
              "    background-color: var(--disabled-bg-color);\n",
              "    fill: var(--disabled-fill-color);\n",
              "    box-shadow: none;\n",
              "  }\n",
              "\n",
              "  .colab-df-spinner {\n",
              "    border: 2px solid var(--fill-color);\n",
              "    border-color: transparent;\n",
              "    border-bottom-color: var(--fill-color);\n",
              "    animation:\n",
              "      spin 1s steps(1) infinite;\n",
              "  }\n",
              "\n",
              "  @keyframes spin {\n",
              "    0% {\n",
              "      border-color: transparent;\n",
              "      border-bottom-color: var(--fill-color);\n",
              "      border-left-color: var(--fill-color);\n",
              "    }\n",
              "    20% {\n",
              "      border-color: transparent;\n",
              "      border-left-color: var(--fill-color);\n",
              "      border-top-color: var(--fill-color);\n",
              "    }\n",
              "    30% {\n",
              "      border-color: transparent;\n",
              "      border-left-color: var(--fill-color);\n",
              "      border-top-color: var(--fill-color);\n",
              "      border-right-color: var(--fill-color);\n",
              "    }\n",
              "    40% {\n",
              "      border-color: transparent;\n",
              "      border-right-color: var(--fill-color);\n",
              "      border-top-color: var(--fill-color);\n",
              "    }\n",
              "    60% {\n",
              "      border-color: transparent;\n",
              "      border-right-color: var(--fill-color);\n",
              "    }\n",
              "    80% {\n",
              "      border-color: transparent;\n",
              "      border-right-color: var(--fill-color);\n",
              "      border-bottom-color: var(--fill-color);\n",
              "    }\n",
              "    90% {\n",
              "      border-color: transparent;\n",
              "      border-bottom-color: var(--fill-color);\n",
              "    }\n",
              "  }\n",
              "</style>\n",
              "\n",
              "      <script>\n",
              "        async function quickchart(key) {\n",
              "          const quickchartButtonEl =\n",
              "            document.querySelector('#' + key + ' button');\n",
              "          quickchartButtonEl.disabled = true;  // To prevent multiple clicks.\n",
              "          quickchartButtonEl.classList.add('colab-df-spinner');\n",
              "          try {\n",
              "            const charts = await google.colab.kernel.invokeFunction(\n",
              "                'suggestCharts', [key], {});\n",
              "          } catch (error) {\n",
              "            console.error('Error during call to suggestCharts:', error);\n",
              "          }\n",
              "          quickchartButtonEl.classList.remove('colab-df-spinner');\n",
              "          quickchartButtonEl.classList.add('colab-df-quickchart-complete');\n",
              "        }\n",
              "        (() => {\n",
              "          let quickchartButtonEl =\n",
              "            document.querySelector('#df-978f2481-6d2e-4e26-bafd-b241a00444a5 button');\n",
              "          quickchartButtonEl.style.display =\n",
              "            google.colab.kernel.accessAllowed ? 'block' : 'none';\n",
              "        })();\n",
              "      </script>\n",
              "    </div>\n",
              "\n",
              "  <div id=\"id_ede8be5e-959a-459f-9750-6416e2347cd0\">\n",
              "    <style>\n",
              "      .colab-df-generate {\n",
              "        background-color: #E8F0FE;\n",
              "        border: none;\n",
              "        border-radius: 50%;\n",
              "        cursor: pointer;\n",
              "        display: none;\n",
              "        fill: #1967D2;\n",
              "        height: 32px;\n",
              "        padding: 0 0 0 0;\n",
              "        width: 32px;\n",
              "      }\n",
              "\n",
              "      .colab-df-generate:hover {\n",
              "        background-color: #E2EBFA;\n",
              "        box-shadow: 0px 1px 2px rgba(60, 64, 67, 0.3), 0px 1px 3px 1px rgba(60, 64, 67, 0.15);\n",
              "        fill: #174EA6;\n",
              "      }\n",
              "\n",
              "      [theme=dark] .colab-df-generate {\n",
              "        background-color: #3B4455;\n",
              "        fill: #D2E3FC;\n",
              "      }\n",
              "\n",
              "      [theme=dark] .colab-df-generate:hover {\n",
              "        background-color: #434B5C;\n",
              "        box-shadow: 0px 1px 3px 1px rgba(0, 0, 0, 0.15);\n",
              "        filter: drop-shadow(0px 1px 2px rgba(0, 0, 0, 0.3));\n",
              "        fill: #FFFFFF;\n",
              "      }\n",
              "    </style>\n",
              "    <button class=\"colab-df-generate\" onclick=\"generateWithVariable('df')\"\n",
              "            title=\"Generate code using this dataframe.\"\n",
              "            style=\"display:none;\">\n",
              "\n",
              "  <svg xmlns=\"http://www.w3.org/2000/svg\" height=\"24px\"viewBox=\"0 0 24 24\"\n",
              "       width=\"24px\">\n",
              "    <path d=\"M7,19H8.4L18.45,9,17,7.55,7,17.6ZM5,21V16.75L18.45,3.32a2,2,0,0,1,2.83,0l1.4,1.43a1.91,1.91,0,0,1,.58,1.4,1.91,1.91,0,0,1-.58,1.4L9.25,21ZM18.45,9,17,7.55Zm-12,3A5.31,5.31,0,0,0,4.9,8.1,5.31,5.31,0,0,0,1,6.5,5.31,5.31,0,0,0,4.9,4.9,5.31,5.31,0,0,0,6.5,1,5.31,5.31,0,0,0,8.1,4.9,5.31,5.31,0,0,0,12,6.5,5.46,5.46,0,0,0,6.5,12Z\"/>\n",
              "  </svg>\n",
              "    </button>\n",
              "    <script>\n",
              "      (() => {\n",
              "      const buttonEl =\n",
              "        document.querySelector('#id_ede8be5e-959a-459f-9750-6416e2347cd0 button.colab-df-generate');\n",
              "      buttonEl.style.display =\n",
              "        google.colab.kernel.accessAllowed ? 'block' : 'none';\n",
              "\n",
              "      buttonEl.onclick = () => {\n",
              "        google.colab.notebook.generateWithVariable('df');\n",
              "      }\n",
              "      })();\n",
              "    </script>\n",
              "  </div>\n",
              "\n",
              "    </div>\n",
              "  </div>\n"
            ],
            "application/vnd.google.colaboratory.intrinsic+json": {
              "type": "dataframe",
              "variable_name": "df",
              "summary": "{\n  \"name\": \"df\",\n  \"rows\": 10,\n  \"fields\": [\n    {\n      \"column\": \"\\ubaa8\\ub378\\uba85\",\n      \"properties\": {\n        \"dtype\": \"string\",\n        \"num_unique_values\": 10,\n        \"samples\": [\n          \"\\ubaa8\\ub2dd\",\n          \"\\uc544\\ubc18\\ub5bc\",\n          \"\\uc2a4\\ud3ec\\ud2f0\\uc9c0\"\n        ],\n        \"semantic_type\": \"\",\n        \"description\": \"\"\n      }\n    },\n    {\n      \"column\": \"\\ube0c\\ub79c\\ub4dc\",\n      \"properties\": {\n        \"dtype\": \"category\",\n        \"num_unique_values\": 3,\n        \"samples\": [\n          \"\\ud604\\ub300\",\n          \"\\uae30\\uc544\",\n          \"\\uc81c\\ub124\\uc2dc\\uc2a4\"\n        ],\n        \"semantic_type\": \"\",\n        \"description\": \"\"\n      }\n    },\n    {\n      \"column\": \"\\uac00\\uaca9(\\ub9cc\\uc6d0)\",\n      \"properties\": {\n        \"dtype\": \"number\",\n        \"std\": 1323,\n        \"min\": 1200,\n        \"max\": 6000,\n        \"num_unique_values\": 9,\n        \"samples\": [\n          1200,\n          1800,\n          3000\n        ],\n        \"semantic_type\": \"\",\n        \"description\": \"\"\n      }\n    },\n    {\n      \"column\": \"\\ud310\\ub9e4\\ub7c9\",\n      \"properties\": {\n        \"dtype\": \"number\",\n        \"std\": 190,\n        \"min\": 150,\n        \"max\": 800,\n        \"num_unique_values\": 10,\n        \"samples\": [\n          600,\n          800,\n          350\n        ],\n        \"semantic_type\": \"\",\n        \"description\": \"\"\n      }\n    },\n    {\n      \"column\": \"\\ucd1d\\ub9e4\\ucd9c(\\ub9cc\\uc6d0)\",\n      \"properties\": {\n        \"dtype\": \"number\",\n        \"std\": 311674,\n        \"min\": 700000,\n        \"max\": 1575000,\n        \"num_unique_values\": 10,\n        \"samples\": [\n          720000,\n          1440000,\n          1050000\n        ],\n        \"semantic_type\": \"\",\n        \"description\": \"\"\n      }\n    }\n  ]\n}"
            }
          },
          "metadata": {},
          "execution_count": 23
        }
      ]
    }
  ]
}
